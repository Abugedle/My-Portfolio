{
 "cells": [
  {
   "cell_type": "markdown",
   "id": "50e4059c",
   "metadata": {},
   "source": [
    "# Airlines_Flights_Data_Analysis"
   ]
  },
  {
   "cell_type": "code",
   "execution_count": null,
   "id": "ede8bec9",
   "metadata": {},
   "outputs": [],
   "source": [
    "print(\"Hello Abel!\")"
   ]
  },
  {
   "cell_type": "code",
   "execution_count": null,
   "id": "4915286a",
   "metadata": {},
   "outputs": [],
   "source": [
    "import pandas as pd \n",
    "import numpy as np \n",
    "import matplotlib.pyplot as plt \n",
    "%matplotlib inline \n",
    "import seaborn as sns"
   ]
  },
  {
   "cell_type": "code",
   "execution_count": null,
   "id": "3db37989",
   "metadata": {},
   "outputs": [],
   "source": [
    "airln = pd.read_csv(r\"C:\\Users\\Abel\\Desktop\\Data Analytics 2025\\airlines_flights_data (csv).csv\")"
   ]
  },
  {
   "cell_type": "code",
   "execution_count": null,
   "id": "28a012e5",
   "metadata": {
    "scrolled": true
   },
   "outputs": [],
   "source": [
    "airln"
   ]
  },
  {
   "cell_type": "markdown",
   "id": "50b21e2b",
   "metadata": {},
   "source": [
    "# Processing & EDA"
   ]
  },
  {
   "cell_type": "code",
   "execution_count": null,
   "id": "24f8f75b",
   "metadata": {},
   "outputs": [],
   "source": [
    "airln.drop(columns = \"index\", inplace = True) "
   ]
  },
  {
   "cell_type": "code",
   "execution_count": null,
   "id": "dc8be253",
   "metadata": {},
   "outputs": [],
   "source": [
    "airln"
   ]
  },
  {
   "cell_type": "code",
   "execution_count": null,
   "id": "2f0ad872",
   "metadata": {},
   "outputs": [],
   "source": [
    "airln.describe()"
   ]
  },
  {
   "cell_type": "code",
   "execution_count": null,
   "id": "6f072ebf",
   "metadata": {},
   "outputs": [],
   "source": [
    "airln[airln['duration'] == 49.830000]"
   ]
  },
  {
   "cell_type": "code",
   "execution_count": null,
   "id": "7b11eabe",
   "metadata": {},
   "outputs": [],
   "source": [
    "airln[airln['days_left'] == 15]"
   ]
  },
  {
   "cell_type": "code",
   "execution_count": null,
   "id": "0dc6e1ac",
   "metadata": {},
   "outputs": [],
   "source": [
    "airln.groupby('airline')['price'].mean()"
   ]
  },
  {
   "cell_type": "code",
   "execution_count": null,
   "id": "16a37859",
   "metadata": {},
   "outputs": [],
   "source": [
    "airln.isnull().sum()"
   ]
  },
  {
   "cell_type": "markdown",
   "id": "2399ba7e",
   "metadata": {},
   "source": [
    "# Q.1. what are the airlines with their frequency"
   ]
  },
  {
   "cell_type": "code",
   "execution_count": null,
   "id": "2c3223fa",
   "metadata": {},
   "outputs": [],
   "source": [
    "airln"
   ]
  },
  {
   "cell_type": "code",
   "execution_count": null,
   "id": "99be59ed",
   "metadata": {},
   "outputs": [],
   "source": [
    "airln['airline'].nunique()       ,       airln.airline.unique()           "
   ]
  },
  {
   "cell_type": "code",
   "execution_count": null,
   "id": "becb7718",
   "metadata": {},
   "outputs": [],
   "source": [
    "airln['airline'].value_counts(ascending = False)"
   ]
  },
  {
   "cell_type": "code",
   "execution_count": null,
   "id": "c0bc4d75",
   "metadata": {},
   "outputs": [],
   "source": [
    "airln['airline'].value_counts(ascending = True).plot.barh(color = ['orange','red','chocolate','brown','gray','darkblue'])\n",
    "plt.show()   "
   ]
  },
  {
   "cell_type": "markdown",
   "id": "92f4c385",
   "metadata": {},
   "source": [
    "# 2. Show Bar Graphs representing the Departure Time & Arrival Time."
   ]
  },
  {
   "cell_type": "code",
   "execution_count": null,
   "id": "ccb7d40a",
   "metadata": {},
   "outputs": [],
   "source": [
    "airln.head(3)"
   ]
  },
  {
   "cell_type": "code",
   "execution_count": null,
   "id": "e2541616",
   "metadata": {},
   "outputs": [],
   "source": [
    "pd.DataFrame({                          \n",
    "    \"Dep. Counts\": airln['departure_time'].value_counts(ascending = True),\n",
    "    \"Arri. Counts\": airln['arrival_time'].value_counts()\n",
    "})"
   ]
  },
  {
   "cell_type": "code",
   "execution_count": null,
   "id": "90584f51",
   "metadata": {},
   "outputs": [],
   "source": [
    "plt.figure(figsize = (12,3))\n",
    "\n",
    "plt.subplot(1,2,1)\n",
    "\n",
    "plt.barh(airln['departure_time'].value_counts().index , \n",
    "         airln['departure_time'].value_counts(ascending=True).values, color = ['orange','red','chocolate','brown','green','darkblue'])\n",
    "plt.title('Departure Time')\n",
    "plt.ylabel('Dp.time')\n",
    "plt.xlabel('Count of flights')\n",
    "\n",
    "plt.subplot(1,2,2)\n",
    "\n",
    "plt.barh(airln['arrival_time'].value_counts().index , \n",
    "         airln['arrival_time'].value_counts(ascending=True).values, color = ['orange','red','chocolate','brown','green','darkblue'])\n",
    "plt.title('Arival Time')\n",
    "plt.ylabel('Ar.time')\n",
    "plt.xlabel('Count of flights')\n",
    "plt.show()"
   ]
  },
  {
   "cell_type": "markdown",
   "id": "998799a3",
   "metadata": {},
   "source": [
    "# 3. Show Bar Graphs representing the Source City & Destination City"
   ]
  },
  {
   "cell_type": "code",
   "execution_count": null,
   "id": "50a28dd8",
   "metadata": {},
   "outputs": [],
   "source": [
    "airln.head()"
   ]
  },
  {
   "cell_type": "code",
   "execution_count": null,
   "id": "146f09bd",
   "metadata": {},
   "outputs": [],
   "source": [
    "airln['source_city'].nunique()   ,   airln['source_city'].unique()      "
   ]
  },
  {
   "cell_type": "code",
   "execution_count": null,
   "id": "f2aaaef7",
   "metadata": {},
   "outputs": [],
   "source": [
    "airln['destination_city'].nunique()   ,   airln['destination_city'].unique()"
   ]
  },
  {
   "cell_type": "code",
   "execution_count": null,
   "id": "b7fb22cf",
   "metadata": {},
   "outputs": [],
   "source": [
    "pd.DataFrame({                          \n",
    "    \"Sourc. Counts\": airln['source_city'].value_counts(ascending = True),\n",
    "    \"Dest. Counts\": airln['destination_city'].value_counts()\n",
    "})"
   ]
  },
  {
   "cell_type": "code",
   "execution_count": null,
   "id": "b36c5276",
   "metadata": {},
   "outputs": [],
   "source": [
    "plt.figure(figsize = (12,3))\n",
    "plt.subplot(1,2,1)\n",
    "\n",
    "plt.barh(airln['source_city'].value_counts().index ,\n",
    "         airln['source_city'].value_counts(ascending = True).values, color = ['orange','red','chocolate','brown','gray','darkblue'])\n",
    "plt.title('Source City')\n",
    "plt.ylabel('Flights')\n",
    "plt.xlabel('City')\n",
    "\n",
    "plt.subplot(1,2,2)\n",
    "plt.barh(airln['destination_city'].value_counts().index ,\n",
    "         airln['destination_city'].value_counts(ascending = True).values, color = ['orange','red','chocolate','brown','gray','darkblue'])\n",
    "plt.title('Destination City')\n",
    "plt.ylabel('Flights')\n",
    "plt.xlabel('City')\n",
    "plt.show()"
   ]
  },
  {
   "cell_type": "markdown",
   "id": "2a55dff6",
   "metadata": {},
   "source": [
    "# 4. Does price varie with airlines?"
   ]
  },
  {
   "cell_type": "code",
   "execution_count": null,
   "id": "baa34b75",
   "metadata": {},
   "outputs": [],
   "source": [
    "airln.head(3)  "
   ]
  },
  {
   "cell_type": "code",
   "execution_count": null,
   "id": "83b11105",
   "metadata": {},
   "outputs": [],
   "source": [
    "airln.groupby('airline')['price'].mean().sort_values(ascending = True)           "
   ]
  },
  {
   "cell_type": "code",
   "execution_count": null,
   "id": "57ea18c3",
   "metadata": {},
   "outputs": [],
   "source": [
    "order = airln.groupby('airline')['price'].mean().sort_values().index                \n",
    "sns.catplot( data = airln, x ='airline', y='price', kind='bar', palette = 'rocket', order = order)        \n",
    "plt.show()              "
   ]
  },
  {
   "cell_type": "markdown",
   "id": "7ce878a9",
   "metadata": {},
   "source": [
    "# 5. Does ticket price change based on the departure time and arrival time?"
   ]
  },
  {
   "cell_type": "code",
   "execution_count": null,
   "id": "c4558edb",
   "metadata": {},
   "outputs": [],
   "source": [
    "airln.head(3)"
   ]
  },
  {
   "cell_type": "code",
   "execution_count": null,
   "id": "794c698b",
   "metadata": {},
   "outputs": [],
   "source": [
    "dep_avg = airln.groupby('departure_time')['price'].mean()\n",
    "arr_avg = airln.groupby('arrival_time')['price'].mean()\n",
    "\n",
    "comparison = pd.DataFrame({\n",
    "            \"Avg Price by Departure Time\": dep_avg,\n",
    "            \"Avg Price by Arrival Time\": arr_avg\n",
    "})\n",
    "comparison              "
   ]
  },
  {
   "cell_type": "code",
   "execution_count": null,
   "id": "4329569b",
   "metadata": {},
   "outputs": [],
   "source": [
    "fig, axes = plt.subplots(1, 2, figsize=(12,3))\n",
    "airln['departure_time'].value_counts().plot(kind='bar', ax=axes[0], title=\"Departure Times\" , color = ['darkblue','gray','brown','chocolate','red','orange']) \n",
    "airln['arrival_time'].value_counts().plot(kind='bar', ax=axes[1], title=\"Arrival Times\" , color = ['darkblue','gray','brown','chocolate','red','orange'] )\n",
    "plt.show()                                                                              "
   ]
  },
  {
   "cell_type": "code",
   "execution_count": null,
   "id": "dc0c51c4",
   "metadata": {},
   "outputs": [],
   "source": [
    "sns.relplot(data=airln, x='departure_time', y='price', col = 'arrival_time' , kind = 'line' , color = 'darkblue') ,\n",
    "\n",
    "sns.relplot(data=airln, x='arrival_time', y='price', col = 'departure_time' , kind = 'line' , color = 'darkblue')"
   ]
  },
  {
   "cell_type": "markdown",
   "id": "9c82f2f0",
   "metadata": {},
   "source": [
    "# 6. How does price change with change in Source and Destination?"
   ]
  },
  {
   "cell_type": "code",
   "execution_count": null,
   "id": "8a8bc4ec",
   "metadata": {},
   "outputs": [],
   "source": [
    "airln.head(1)"
   ]
  },
  {
   "cell_type": "code",
   "execution_count": null,
   "id": "0ae4fdd2",
   "metadata": {},
   "outputs": [],
   "source": [
    "airln['source_city'].nunique()   ,   airln['source_city'].unique() "
   ]
  },
  {
   "cell_type": "code",
   "execution_count": null,
   "id": "6a117387",
   "metadata": {},
   "outputs": [],
   "source": [
    "sns.relplot(data = airln, x ='source_city', y ='price', col = 'destination_city' , kind = 'line' , color = 'darkblue')\n",
    ";"
   ]
  },
  {
   "cell_type": "markdown",
   "id": "9fe7e0a8",
   "metadata": {},
   "source": [
    "# 7. How is the price affected when tickets are bought in just 1 or 2 days before departure?"
   ]
  },
  {
   "cell_type": "code",
   "execution_count": null,
   "id": "31019d93",
   "metadata": {},
   "outputs": [],
   "source": [
    "airln.head(1)"
   ]
  },
  {
   "cell_type": "code",
   "execution_count": null,
   "id": "b8da50a3",
   "metadata": {},
   "outputs": [],
   "source": [
    "airln['days_left'].nunique()    ,    airln['days_left'].unique()"
   ]
  },
  {
   "cell_type": "code",
   "execution_count": null,
   "id": "d33a61a4",
   "metadata": {},
   "outputs": [],
   "source": [
    "filtered = airln[airln['days_left'].isin([1 , 2 , 7 , 15 , 30 , 45 , 49])]                          \n",
    "result = filtered.groupby('days_left')['price'].mean()\n",
    "print(result) "
   ]
  },
  {
   "cell_type": "code",
   "execution_count": null,
   "id": "936720f0",
   "metadata": {},
   "outputs": [],
   "source": [
    "filtered = airln[airln['days_left'].isin([1 , 2])]                          \n",
    "result = filtered.groupby('days_left')['price'].mean()\n",
    "print(result) "
   ]
  },
  {
   "cell_type": "code",
   "execution_count": null,
   "id": "05d54b11",
   "metadata": {},
   "outputs": [],
   "source": [
    "airln['is_last_minute'] = airln['days_left'].isin([1, 2])\n",
    "comparison = airln.groupby('is_last_minute')['price'].mean()\n",
    "print(comparison)                         "
   ]
  },
  {
   "cell_type": "code",
   "execution_count": null,
   "id": "553d60d2",
   "metadata": {},
   "outputs": [],
   "source": [
    "sns.relplot(data = airln, x ='days_left', y ='price' , kind = 'line' , color = 'darkblue')\n",
    ";"
   ]
  },
  {
   "cell_type": "markdown",
   "id": "338cf347",
   "metadata": {},
   "source": [
    "# 8. How does the ticket price vary between Economy and Business class?"
   ]
  },
  {
   "cell_type": "code",
   "execution_count": null,
   "id": "b6ed6260",
   "metadata": {},
   "outputs": [],
   "source": [
    "airln.head(1)"
   ]
  },
  {
   "cell_type": "code",
   "execution_count": null,
   "id": "bd81c37e",
   "metadata": {},
   "outputs": [],
   "source": [
    "airln['class'].nunique()  ,  airln['class'].unique()"
   ]
  },
  {
   "cell_type": "code",
   "execution_count": null,
   "id": "c306bf2d",
   "metadata": {},
   "outputs": [],
   "source": [
    "airln.groupby('class')['price'].mean()"
   ]
  },
  {
   "cell_type": "code",
   "execution_count": null,
   "id": "57defb36",
   "metadata": {},
   "outputs": [],
   "source": [
    "plt.figure(figsize=(8,2))\n",
    "airln.groupby('class')['price'].mean().sort_values(ascending = True).plot.bar(color = 'darkblue')\n",
    "\n",
    "plt.title('Class - Price' )\n",
    "plt.xlabel('Class')\n",
    "plt.ylabel('Price')\n",
    "plt.show()           "
   ]
  },
  {
   "cell_type": "markdown",
   "id": "57ef34fe",
   "metadata": {},
   "source": [
    "## 9. What will be the Average Price of Vistara airline for a flight from Delhi to Hyderabad in Business Class?"
   ]
  },
  {
   "cell_type": "code",
   "execution_count": null,
   "id": "2f02ecc7",
   "metadata": {},
   "outputs": [],
   "source": [
    "airln.head(3)"
   ]
  },
  {
   "cell_type": "code",
   "execution_count": null,
   "id": "383f8aaa",
   "metadata": {},
   "outputs": [],
   "source": [
    "filter = airln[(airln['airline'] == 'Vistara') & (airln['source_city'] == 'Delhi') & \n",
    "               (airln['destination_city'] == 'Hyderabad') & (airln['class'] == 'Business')]\n",
    "\n",
    "filter['price'].mean()  "
   ]
  },
  {
   "cell_type": "code",
   "execution_count": null,
   "id": "9535b259",
   "metadata": {},
   "outputs": [],
   "source": []
  }
 ],
 "metadata": {
  "kernelspec": {
   "display_name": "Python 3 (ipykernel)",
   "language": "python",
   "name": "python3"
  },
  "language_info": {
   "codemirror_mode": {
    "name": "ipython",
    "version": 3
   },
   "file_extension": ".py",
   "mimetype": "text/x-python",
   "name": "python",
   "nbconvert_exporter": "python",
   "pygments_lexer": "ipython3",
   "version": "3.9.12"
  }
 },
 "nbformat": 4,
 "nbformat_minor": 5
}
